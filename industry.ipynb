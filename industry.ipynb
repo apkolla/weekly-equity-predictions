{
  "nbformat": 4,
  "nbformat_minor": 0,
  "metadata": {
    "colab": {
      "provenance": []
    },
    "kernelspec": {
      "name": "python3",
      "display_name": "Python 3"
    },
    "language_info": {
      "name": "python"
    }
  },
  "cells": [
    {
      "cell_type": "code",
      "execution_count": 1,
      "metadata": {
        "id": "_jVijqoLqFbN"
      },
      "outputs": [],
      "source": [
        "import yfinance as yf\n",
        "import requests\n",
        "import bs4 as bs\n",
        "import datetime as dt\n",
        "import pandas as pd\n",
        "import io\n",
        "import numpy as np"
      ]
    },
    {
      "cell_type": "code",
      "source": [
        "resp = requests.get('http://en.wikipedia.org/wiki/List_of_S%26P_500_companies')\n",
        "soup = bs.BeautifulSoup(resp.text, 'lxml')\n",
        "table = soup.find('table', {'class': 'wikitable sortable'})\n",
        "\n",
        "tickers = []\n",
        "\n",
        "for row in table.findAll('tr')[1:]:\n",
        "    ticker = row.findAll('td')[0].text\n",
        "    tickers.append(ticker)\n",
        "tickers = [s.replace('\\n', \"\") for s in tickers]\n"
      ],
      "metadata": {
        "id": "MclZxRahrZJV"
      },
      "execution_count": 10,
      "outputs": []
    },
    {
      "cell_type": "code",
      "source": [
        "industry = []\n",
        "\n",
        "for row in table.findAll('tr')[1:]:\n",
        "    i = row.findAll('td')[2].text\n",
        "    industry.append(i)\n",
        "\n",
        "industry[2]"
      ],
      "metadata": {
        "colab": {
          "base_uri": "https://localhost:8080/",
          "height": 35
        },
        "id": "h_JK2cgC8rve",
        "outputId": "b54dc10a-7c54-4e8f-b2a6-671f0f5920a2"
      },
      "execution_count": 20,
      "outputs": [
        {
          "output_type": "execute_result",
          "data": {
            "text/plain": [
              "'Health Care'"
            ],
            "application/vnd.google.colaboratory.intrinsic+json": {
              "type": "string"
            }
          },
          "metadata": {},
          "execution_count": 20
        }
      ]
    },
    {
      "cell_type": "code",
      "source": [
        "ti = pd.DataFrame(tickers)\n",
        "ti.columns = ['ticker']\n",
        "ind = pd.DataFrame(industry)\n",
        "ind.columns = ['industry']\n",
        "dat = ti.join(ind)"
      ],
      "metadata": {
        "id": "SdXCzVJWrrVO"
      },
      "execution_count": 33,
      "outputs": []
    },
    {
      "cell_type": "code",
      "source": [
        "dat.to_csv('industry.csv', index = False)"
      ],
      "metadata": {
        "id": "A5KUf2gbuscy"
      },
      "execution_count": 36,
      "outputs": []
    }
  ]
}